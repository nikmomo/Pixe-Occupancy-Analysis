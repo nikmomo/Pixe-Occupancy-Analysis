{
  "cells": [
    {
      "cell_type": "code",
      "execution_count": 1,
      "metadata": {
        "colab": {
          "base_uri": "https://localhost:8080/",
          "height": 527
        },
        "id": "Z7YFhHiZ41NY",
        "outputId": "5eab1baf-e1a2-4785-f0f7-1b81b48bd800"
      },
      "outputs": [
        {
          "name": "stdout",
          "output_type": "stream",
          "text": [
            "Mean Absolute Error: 3.56\n",
            "Mean Squared Error: 29.44\n",
            "Mean Absolute Percentage Error: 11.84%\n"
          ]
        }
      ],
      "source": [
        "import pandas as pd\n",
        "import xgboost as xgb\n",
        "from sklearn.model_selection import train_test_split\n",
        "from sklearn.metrics import mean_squared_error, mean_absolute_error\n",
        "import matplotlib.pyplot as plt\n",
        "import numpy as np\n",
        "\n",
        "# Load the data\n",
        "df = pd.read_csv('./Data/data.csv')\n",
        "\n",
        "# For x, drop useless column\n",
        "columns_to_drop = ['image_path', 'weight']\n",
        "\n",
        "# Prepare the feature matrix (X) and the target vector (y)\n",
        "X = df.drop(columns_to_drop, axis=1)\n",
        "y = df['weight'].values\n",
        "\n",
        "# Split the data into training and test sets\n",
        "X_train, X_test, y_train, y_test = train_test_split(X, y, test_size=0.3, random_state=42)\n",
        "\n",
        "# Create and train the XGBoost model\n",
        "xg_reg = xgb.XGBRegressor(objective='reg:squarederror', n_estimators=10, seed=42)\n",
        "xg_reg.fit(X_train, y_train)\n",
        "\n",
        "# Predict the weights for the test set\n",
        "y_pred = xg_reg.predict(X_test)\n",
        "\n",
        "# Calculate the Mean Squared Error\n",
        "mse = mean_squared_error(y_test, y_pred)\n",
        "\n",
        "# Calculate the Mean Absolute Error\n",
        "mae = mean_absolute_error(y_test, y_pred)\n",
        "\n",
        "# Calculate the mean absolute percentage error (MAPE)\n",
        "mape = np.mean(np.abs((y_test - y_pred) / y_test)) * 100\n",
        "\n",
        "print(f'Mean Absolute Error: {mae:.2f}')\n",
        "print(f'Mean Squared Error: {mse:.2f}')\n",
        "print(f'Mean Absolute Percentage Error: {mape:.2f}%')\n",
        "\n",
        "# # Scatter plot of actual vs. predicted weights\n",
        "# plt.scatter(X_test.index, y_test, color='black', label='Actual data')\n",
        "# plt.scatter(X_test.index, y_pred, color='blue', label='Predicted data')\n",
        "\n",
        "\n",
        "# # Titles and labels\n",
        "# plt.title('Actual vs. Predicted Weights')\n",
        "# plt.xlabel('Pig Index')\n",
        "# plt.ylabel('Weight')\n",
        "# plt.legend()\n",
        "# plt.show()\n"
      ]
    }
  ],
  "metadata": {
    "colab": {
      "provenance": []
    },
    "kernelspec": {
      "display_name": "Python 3",
      "name": "python3"
    },
    "language_info": {
      "codemirror_mode": {
        "name": "ipython",
        "version": 3
      },
      "file_extension": ".py",
      "mimetype": "text/x-python",
      "name": "python",
      "nbconvert_exporter": "python",
      "pygments_lexer": "ipython3",
      "version": "3.11.5"
    }
  },
  "nbformat": 4,
  "nbformat_minor": 0
}
